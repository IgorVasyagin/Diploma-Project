{
 "cells": [
  {
   "cell_type": "code",
   "execution_count": 1,
   "id": "312749e1-ccfc-48f3-8348-93615f82d344",
   "metadata": {},
   "outputs": [],
   "source": [
    "from pickle import load\n",
    "\n",
    "from tkinter import *\n",
    "from tkinter import messagebox"
   ]
  },
  {
   "cell_type": "code",
   "execution_count": 2,
   "id": "2e1ee755-a941-43c0-a18d-7796cb8c3dcd",
   "metadata": {
    "tags": []
   },
   "outputs": [
    {
     "data": {
      "text/plain": [
       "''"
      ]
     },
     "execution_count": 2,
     "metadata": {},
     "output_type": "execute_result"
    }
   ],
   "source": [
    "app = Tk()\n",
    "app.title('App Module & Endurance')\n",
    "app.wm_attributes('-alpha', 0.98)\n",
    "app.geometry('350x500')\n",
    "app.resizable(width=False, height=False)"
   ]
  },
  {
   "cell_type": "code",
   "execution_count": 3,
   "id": "0768e9b7-638a-4399-b0d8-02380db86b2d",
   "metadata": {},
   "outputs": [],
   "source": [
    "def run() -> None:\n",
    "    try:\n",
    "        if ((not entry1.get()) or (float(entry1.get()) < 0.5 or float(entry1.get()) > 5.0))\\\n",
    "        or ((not entry2.get()) or (float(entry2.get()) < 1784.0 or float(entry2.get()) > 2161.0))\\\n",
    "        or ((not entry3.get()) or (float(entry3.get()) < 2.0 or float(entry3.get()) > 1649.0))\\\n",
    "        or ((not entry4.get()) or (float(entry4.get()) < 38.0 or float(entry4.get()) > 181.0))\\\n",
    "        or ((not entry5.get()) or (float(entry5.get()) < 15.0 or float(entry5.get()) > 28.0))\\\n",
    "        or ((not entry6.get()) or (float(entry6.get()) < 179.0 or float(entry6.get()) > 386.0))\\\n",
    "        or ((not entry7.get()) or (float(entry7.get()) < 0.6 or float(entry7.get()) > 1291.0))\\\n",
    "        or ((not entry8.get()) or (float(entry8.get()) < 63.0 or float(entry8.get()) > 359.0))\\\n",
    "        or ((not entry9.get()) or (float(entry9.get()) < 0.0 or float(entry9.get()) > 90.0))\\\n",
    "        or ((not entry10.get()) or (float(entry10.get()) < 0.0 or float(entry10.get()) > 13.0))\\\n",
    "        or ((not entry11.get()) or (float(entry11.get()) < 27.0 or float(entry11.get()) > 86.0)):\n",
    "            messagebox.showerror('Ошибка', 'Значение должно быть в заданном диапазоне!')\n",
    "            return\n",
    "        data = [float(entry1.get()),\n",
    "                float(entry2.get()),\n",
    "                float(entry3.get()),\n",
    "                float(entry4.get()),\n",
    "                float(entry5.get()),\n",
    "                float(entry6.get()),\n",
    "                float(entry7.get()),\n",
    "                float(entry8.get()),\n",
    "                float(entry9.get()),\n",
    "                float(entry10.get()),\n",
    "                float(entry11.get())\n",
    "               ]\n",
    "        with open('models/module.pkl', 'rb') as file:\n",
    "            module = load(file)\n",
    "        with open('models/endurance.pkl', 'rb') as file:\n",
    "            endurance = load(file)\n",
    "        \n",
    "        result_mod = str(round(module.predict([data])[0], 4))\n",
    "        result_end = str(round(endurance.predict([data])[0], 4))\n",
    "\n",
    "        messagebox.showinfo('Результат', f'\\nМодуль упругости при растяжении, ГПа: {result_mod}\\nПрочность при растяжении, МПа: {result_end}')\n",
    "    except ValueError:\n",
    "        messagebox.showerror('Ошибка', 'Значение должно быть числом!')"
   ]
  },
  {
   "cell_type": "code",
   "execution_count": 4,
   "id": "6e07740b-0fef-4be6-b938-7501c245e1a3",
   "metadata": {},
   "outputs": [],
   "source": [
    "Label(app, text='Соотношение матрица-наполнитель (0.5 - 5.0)').pack()\n",
    "entry1 = Entry(app, width=10)\n",
    "entry1.pack()\n",
    "\n",
    "Label(app, text='Плотность, кг/м3 (1784.0 - 2161.0)').pack()\n",
    "entry2 = Entry(app, width=10)\n",
    "entry2.pack()\n",
    "\n",
    "Label(app, text='Модуль упругости, ГПа (2.0 - 1649.0)').pack()\n",
    "entry3 = Entry(app, width=10)\n",
    "entry3.pack()\n",
    "\n",
    "Label(app, text='Количество отвердителя, м.% (38.0 - 181.0)').pack()\n",
    "entry4 = Entry(app, width=10)\n",
    "entry4.pack()\n",
    "\n",
    "Label(app, text='Содержание эпоксидных групп, %_2 (15.0 - 28.0)').pack()\n",
    "entry5 = Entry(app, width=10)\n",
    "entry5.pack()\n",
    "\n",
    "Label(app, text='Температура вспышки, С_2 (179.0 - 386.0)').pack()\n",
    "entry6 = Entry(app, width=10)\n",
    "entry6.pack()\n",
    "\n",
    "Label(app, text='Поверхностная плотность, г/м2 (0.6 - 1291.0)').pack()\n",
    "entry7 = Entry(app, width=10)\n",
    "entry7.pack()\n",
    "\n",
    "Label(app, text='Потребление смолы, г/м2 (63.0 - 359.0)').pack()\n",
    "entry8 = Entry(app, width=10)\n",
    "entry8.pack()\n",
    "\n",
    "Label(app, text='Угол нашивки, градусы (0.0 - 90.0)').pack()\n",
    "entry9 = Entry(app, width=10)\n",
    "entry9.pack()\n",
    "\n",
    "Label(app, text='Шаг нашивки (0.0 - 13.0)').pack()\n",
    "entry10 = Entry(app, width=10)\n",
    "entry10.pack()\n",
    "\n",
    "Label(app, text='Плотность нашивки (27.0 - 86.0)').pack()\n",
    "entry11 = Entry(app, width=10)\n",
    "entry11.pack()\n",
    "\n",
    "Button(app, text='Рассчитать', command=run).pack()"
   ]
  },
  {
   "cell_type": "code",
   "execution_count": 5,
   "id": "29c608f7-bdc9-486d-a1e9-90c9ff0abd47",
   "metadata": {
    "tags": []
   },
   "outputs": [
    {
     "name": "stderr",
     "output_type": "stream",
     "text": [
      "D:\\Programs\\anaconda3\\lib\\site-packages\\sklearn\\base.py:450: UserWarning: X does not have valid feature names, but KNeighborsRegressor was fitted with feature names\n",
      "  warnings.warn(\n",
      "D:\\Programs\\anaconda3\\lib\\site-packages\\sklearn\\base.py:450: UserWarning: X does not have valid feature names, but KNeighborsRegressor was fitted with feature names\n",
      "  warnings.warn(\n"
     ]
    }
   ],
   "source": [
    "app.mainloop()"
   ]
  },
  {
   "cell_type": "code",
   "execution_count": null,
   "id": "3c9b7408-630e-40f2-820d-4da4a9139e78",
   "metadata": {},
   "outputs": [],
   "source": []
  },
  {
   "cell_type": "code",
   "execution_count": null,
   "id": "5c482b22-7236-45e6-b7d5-4edc58f775dd",
   "metadata": {},
   "outputs": [],
   "source": []
  },
  {
   "cell_type": "code",
   "execution_count": null,
   "id": "8e7b9abc-3337-4afc-bf11-3650bbb772f2",
   "metadata": {},
   "outputs": [],
   "source": []
  },
  {
   "cell_type": "raw",
   "id": "09dda006-86c2-463d-b98a-656be357135f",
   "metadata": {},
   "source": [
    "frame1 = Frame(app)\n",
    "frame1.pack(fill=X)\n",
    " \n",
    "lbl1 = Label(frame1, text='Соотношение матрица-наполнитель (0.5 - 5.0)', width=50)\n",
    "lbl1.pack(side=LEFT)\n",
    " \n",
    "entry1 = Entry(frame1)\n",
    "entry1.pack(fill=X, padx=15, expand=True, side=RIGHT)"
   ]
  }
 ],
 "metadata": {
  "kernelspec": {
   "display_name": "Python 3 (ipykernel)",
   "language": "python",
   "name": "python3"
  },
  "language_info": {
   "codemirror_mode": {
    "name": "ipython",
    "version": 3
   },
   "file_extension": ".py",
   "mimetype": "text/x-python",
   "name": "python",
   "nbconvert_exporter": "python",
   "pygments_lexer": "ipython3",
   "version": "3.9.13"
  }
 },
 "nbformat": 4,
 "nbformat_minor": 5
}
